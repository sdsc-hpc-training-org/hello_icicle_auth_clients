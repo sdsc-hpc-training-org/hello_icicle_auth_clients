{
 "cells": [
  {
   "attachments": {},
   "cell_type": "markdown",
   "metadata": {},
   "source": [
    "# Tapis federated authentication prototyping"
   ]
  },
  {
   "attachments": {},
   "cell_type": "markdown",
   "metadata": {},
   "source": [
    "### Sample Workflow (to remember)\n",
    "1. Authentication client ID is shipped with software \n",
    "2. A non-authenticated tapis instance is created (only pass the tenant base url when instantiating)\n",
    "3. make the get device code call with the client ID\n",
    "4. navigate to webpage and enter user code\n",
    "5. generate token, wait for confirmation on website\n",
    "6. website confirmation, token generation\n",
    "7. pass token to tapis, now authenticated as individual user\n",
    "\n",
    "(this is all correct?)\n",
    "\n",
    "### other things\n",
    "* have a way for users to choose to use tacc account or federated OAuth at startup\n",
    "* external service to serve tenant specific client IDs so that the app can be more flexible"
   ]
  },
  {
   "cell_type": "code",
   "execution_count": 11,
   "metadata": {},
   "outputs": [],
   "source": [
    "import requests\n",
    "import time\n",
    "import pprint as pp\n",
    "import datetime\n",
    "from getpass import getpass\n",
    "import pytz\n",
    "import neo4jupyter\n",
    "from py2neo import Graph\n",
    "from tapipy.tapis import Tapis"
   ]
  },
  {
   "cell_type": "code",
   "execution_count": 2,
   "metadata": {},
   "outputs": [
    {
     "data": {
      "text/plain": [
       "'1.3.6'"
      ]
     },
     "execution_count": 2,
     "metadata": {},
     "output_type": "execute_result"
    }
   ],
   "source": [
    "import tapipy\n",
    "tapipy.__version__"
   ]
  },
  {
   "cell_type": "code",
   "execution_count": 18,
   "metadata": {},
   "outputs": [
    {
     "data": {
      "text/plain": [
       "\n",
       "command: None\n",
       "creation_ts: 2023-07-03T21:24:47.692585\n",
       "data_attached: []\n",
       "data_requests: []\n",
       "description: \n",
       "environment_variables: \n",
       "\n",
       "networking: \n",
       "default: \n",
       "port: 7687\n",
       "protocol: tcp\n",
       "url: silliness3.pods.smartfoods.develop.tapis.io\n",
       "pod_id: silliness3\n",
       "pod_template: template/neo4j\n",
       "resources: \n",
       "cpu_limit: 2000\n",
       "cpu_request: 250\n",
       "mem_limit: 3072\n",
       "mem_request: 256\n",
       "roles_inherited: []\n",
       "roles_required: []\n",
       "start_instance_ts: None\n",
       "status: REQUESTED\n",
       "status_container: \n",
       "\n",
       "status_requested: ON\n",
       "time_to_stop_default: 43200\n",
       "time_to_stop_instance: None\n",
       "time_to_stop_ts: None\n",
       "update_ts: 2023-07-03T21:24:47.692949\n",
       "volume_mounts: "
      ]
     },
     "execution_count": 18,
     "metadata": {},
     "output_type": "execute_result"
    }
   ],
   "source": [
    "t.pods.create_pod(pod_id='silliness3', pod_template='template/neo4j', testarg='dinkus', description='')"
   ]
  },
  {
   "cell_type": "code",
   "execution_count": 3,
   "metadata": {},
   "outputs": [
    {
     "data": {
      "application/javascript": "var link = document.createElement(\"link\");\n\tlink.rel = \"stylesheet\";\n\tlink.type = \"text/css\";\n\tlink.href = \"https://cdnjs.cloudflare.com/ajax/libs/vis/4.8.2/vis.css\";\n\tdocument.head.appendChild(link);\nrequire.config({     paths: {         vis: '//cdnjs.cloudflare.com/ajax/libs/vis/4.8.2/vis.min'     } }); require(['vis'], function(vis) {  window.vis = vis; }); ",
      "text/plain": [
       "<IPython.core.display.Javascript object>"
      ]
     },
     "metadata": {},
     "output_type": "display_data"
    }
   ],
   "source": [
    "def show(res):\n",
    "    try:\n",
    "        pp.pprint(res.json())\n",
    "    except:\n",
    "        pp.pprint(res.text)\n",
    "\n",
    "neo4jupyter.init_notebook_mode()"
   ]
  },
  {
   "cell_type": "code",
   "execution_count": 12,
   "metadata": {},
   "outputs": [],
   "source": [
    "base_url = \"smartfoods.develop.tapis.io\""
   ]
  },
  {
   "cell_type": "code",
   "execution_count": 13,
   "metadata": {},
   "outputs": [
    {
     "name": "stdout",
     "output_type": "stream",
     "text": [
      "Creating new Tapis object.\n",
      "5.791557550430298\n",
      "base_url: smartfoods.develop.tapis.io\n",
      "serv_url: smartfoods.develop.tapis.io/v3\n"
     ]
    }
   ],
   "source": [
    "start = time.time()\n",
    "\n",
    "# Base URL for Tapis\n",
    "username = str(input(\"username\"))\n",
    "\n",
    "# Get Tapis object if it isn't already created.\n",
    "try:\n",
    "    if t.base_url == base_url and t.username == username and t.access_token:\n",
    "        print(\"Tapis object already exists.\")\n",
    "        if t.access_token.expires_at < datetime.datetime.now(pytz.utc):\n",
    "            print(\"Existing Tapis token expired, getting new token.\")\n",
    "            raise\n",
    "    else:\n",
    "        print(\"Creating new Tapis object.\")\n",
    "        raise\n",
    "except:\n",
    "    try:\n",
    "        t = Tapis(base_url = f\"https://{base_url}\",\n",
    "                  username = username,\n",
    "                  password = getpass('password'))\n",
    "        t.get_tokens()\n",
    "    except Exception as e:\n",
    "        print(f\"\\nBROKEN! timeout: {time.time() - start}\\n\")\n",
    "        raise\n",
    "\n",
    "# V3 Headers\n",
    "header_dat = {\"X-Tapis-token\": t.access_token.access_token,\n",
    "              \"Content-Type\": \"application/json\"}\n",
    "\n",
    "# Service URL\n",
    "url = f\"{base_url}/v3\"                   # remote\n",
    "\n",
    "print(time.time() - start)\n",
    "print(f\"base_url: {base_url}\")\n",
    "print(f\"serv_url: {url}\")"
   ]
  },
  {
   "cell_type": "code",
   "execution_count": 4,
   "metadata": {},
   "outputs": [
    {
     "data": {
      "text/plain": [
       "{'openapi': '3.0.2',\n",
       " 'info': {'title': 'Authenticator',\n",
       "  'description': 'REST API and web server providing authentication for a Tapis v3 instance.',\n",
       "  'version': '1',\n",
       "  'termsOfService': 'https://tapis-project.org',\n",
       "  'contact': {'name': 'Authenticator',\n",
       "   'url': 'https://tapis-project.org',\n",
       "   'email': 'cicsupport@tacc.utexas.edu'},\n",
       "  'license': {'name': 'BSD 3',\n",
       "   'url': 'https://github.com/tapis-project/authenticator'}},\n",
       " 'servers': [{'url': 'http://localhost:5000',\n",
       "   'description': 'Local Development'},\n",
       "  {'url': 'http://{tenant_id_url}.develop.tapis.io',\n",
       "   'description': 'Tapis Develop instance',\n",
       "   'variables': {'tenant_id_url': {'default': 'dev',\n",
       "     'description': 'The tenant_id associated with the request.'}}},\n",
       "  {'url': '/',\n",
       "   'description': 'catch-all server definition for other Tapis instances.'}],\n",
       " 'paths': {'/v3/oauth2/hello': {'get': {'tags': ['Health Check'],\n",
       "    'description': 'Logged connectivity test. No authorization required.',\n",
       "    'operationId': 'hello',\n",
       "    'responses': {'200': {'description': 'Message received.',\n",
       "      'content': {'application/json': {'schema': {'$ref': '#/components/schemas/BasicResponse',\n",
       "         'x-scope': ['']}}}},\n",
       "     '500': {'description': 'Server error.'}}}},\n",
       "  '/v3/oauth2/ready': {'get': {'tags': ['Health Check'],\n",
       "    'description': 'Logged connectivity test. No authorization required.',\n",
       "    'operationId': 'ready',\n",
       "    'responses': {'200': {'description': 'Message received.',\n",
       "      'content': {'application/json': {'schema': {'$ref': '#/components/schemas/BasicResponse',\n",
       "         'x-scope': ['']}}}},\n",
       "     '500': {'description': 'Server error.'}}}},\n",
       "  '/v3/oauth2/.well-known/oauth-authorization-server': {'get': {'tags': ['Metadata'],\n",
       "    'operationId': 'get_server_metadata',\n",
       "    'description': 'Get the OAuth2 server metadata for the tenant.',\n",
       "    'responses': {'200': {'description': 'OK',\n",
       "      'content': {'application/json': {'schema': {'allOf': [{'$ref': '#/components/schemas/BasicResponse',\n",
       "           'x-scope': ['']}],\n",
       "         'properties': {'result': {'$ref': '#/components/schemas/OAuth2Metadata',\n",
       "           'x-scope': ['']}}}}}}}}},\n",
       "  '/v3/oauth2/admin/config': {'get': {'tags': ['Admin'],\n",
       "    'operationId': 'get_config',\n",
       "    'description': 'Get the authenticator configuraion for the tenant; restricted to Tenant admins.',\n",
       "    'responses': {'200': {'description': 'OK',\n",
       "      'content': {'application/json': {'schema': {'allOf': [{'$ref': '#/components/schemas/BasicResponse',\n",
       "           'x-scope': ['']}],\n",
       "         'properties': {'result': {'$ref': '#/components/schemas/TenantConfig',\n",
       "           'x-scope': ['']}}}}}}}},\n",
       "   'put': {'tags': ['Admin'],\n",
       "    'operationId': 'update_config',\n",
       "    'requestBody': {'required': True,\n",
       "     'content': {'application/json': {'schema': {'$ref': '#/components/schemas/NewTenantConfig',\n",
       "        'x-scope': ['']}}}},\n",
       "    'description': 'Update the authenticator configuraion for the tenant; restricted to Tenant admins.',\n",
       "    'responses': {'200': {'description': 'OK',\n",
       "      'content': {'application/json': {'schema': {'allOf': [{'$ref': '#/components/schemas/BasicResponse',\n",
       "           'x-scope': ['']}],\n",
       "         'properties': {'result': {'$ref': '#/components/schemas/TenantConfig',\n",
       "           'x-scope': ['']}}}}}}}}},\n",
       "  '/v3/oauth2/clients': {'get': {'tags': ['Clients'],\n",
       "    'operationId': 'list_clients',\n",
       "    'parameters': [{'name': 'limit',\n",
       "      'in': 'query',\n",
       "      'description': 'limit the number of clients returned.',\n",
       "      'schema': {'type': 'integer'}},\n",
       "     {'name': 'offset',\n",
       "      'in': 'query',\n",
       "      'description': 'index (offset) to start list.',\n",
       "      'schema': {'type': 'integer'}}],\n",
       "    'responses': {'200': {'description': 'OK',\n",
       "      'content': {'application/json': {'schema': {'allOf': [{'$ref': '#/components/schemas/BasicResponse',\n",
       "           'x-scope': ['']}],\n",
       "         'properties': {'result': {'$ref': '#/components/schemas/arrayOfClients',\n",
       "           'x-scope': ['']}}}}}}}},\n",
       "   'post': {'tags': ['Clients'],\n",
       "    'operationId': 'create_client',\n",
       "    'requestBody': {'required': True,\n",
       "     'content': {'application/json': {'schema': {'$ref': '#/components/schemas/NewClient',\n",
       "        'x-scope': ['']}}}},\n",
       "    'responses': {'201': {'description': 'Created',\n",
       "      'content': {'application/json': {'schema': {'allOf': [{'$ref': '#/components/schemas/BasicResponse',\n",
       "           'x-scope': ['']}],\n",
       "         'properties': {'result': {'$ref': '#/components/schemas/Client',\n",
       "           'x-scope': ['']}}}}}}}}},\n",
       "  '/v3/oauth2/clients/{client_id}': {'get': {'tags': ['Clients'],\n",
       "    'summary': 'Get client details',\n",
       "    'description': 'Get details of a specific client by its id.',\n",
       "    'operationId': 'get_client',\n",
       "    'parameters': [{'name': 'client_id',\n",
       "      'in': 'path',\n",
       "      'description': 'Unique ID of the client',\n",
       "      'required': True,\n",
       "      'schema': {'type': 'string'}}],\n",
       "    'responses': {'200': {'description': 'OK',\n",
       "      'content': {'application/json': {'schema': {'allOf': [{'$ref': '#/components/schemas/BasicResponse',\n",
       "           'x-scope': ['']}],\n",
       "         'properties': {'result': {'$ref': '#/components/schemas/Client',\n",
       "           'x-scope': ['']}}}}}}}},\n",
       "   'put': {'tags': ['Clients'],\n",
       "    'summary': 'Update client details',\n",
       "    'description': 'Update details of a specific client by its id.',\n",
       "    'operationId': 'update_client',\n",
       "    'parameters': [{'name': 'client_id',\n",
       "      'in': 'path',\n",
       "      'description': 'Unique ID of the client',\n",
       "      'required': True,\n",
       "      'schema': {'type': 'string'}}],\n",
       "    'requestBody': {'required': True,\n",
       "     'content': {'application/json': {'schema': {'$ref': '#/components/schemas/UpdateClient',\n",
       "        'x-scope': ['']}}}},\n",
       "    'responses': {'200': {'description': 'OK',\n",
       "      'content': {'application/json': {'schema': {'allOf': [{'$ref': '#/components/schemas/BasicResponse',\n",
       "           'x-scope': ['']}],\n",
       "         'properties': {'result': {'$ref': '#/components/schemas/Client',\n",
       "           'x-scope': ['']}}}}}}}},\n",
       "   'delete': {'tags': ['Clients'],\n",
       "    'summary': 'Delete a tenant',\n",
       "    'description': 'Permenantly delete a client.',\n",
       "    'operationId': 'delete_client',\n",
       "    'parameters': [{'name': 'client_id',\n",
       "      'in': 'path',\n",
       "      'description': 'Unique ID of the client',\n",
       "      'required': True,\n",
       "      'schema': {'type': 'string'}}],\n",
       "    'responses': {'200': {'description': 'OK',\n",
       "      'content': {'application/json': {'schema': {'allOf': [{'$ref': '#/components/schemas/BasicResponse',\n",
       "           'x-scope': ['']}],\n",
       "         'properties': {'result': {'type': 'string',\n",
       "           'nullable': True,\n",
       "           'enum': [None]}}}}}}}}},\n",
       "  '/v3/oauth2/tokens': {'post': {'tags': ['Tokens'],\n",
       "    'operationId': 'create_token',\n",
       "    'requestBody': {'required': True,\n",
       "     'content': {'application/json': {'schema': {'$ref': '#/components/schemas/NewToken',\n",
       "        'x-scope': ['']}},\n",
       "      'application/x-www-form-urlencoded': {'schema': {'$ref': '#/components/schemas/NewToken',\n",
       "        'x-scope': ['']}}}},\n",
       "    'responses': {'201': {'description': 'Created',\n",
       "      'content': {'application/json': {'schema': {'allOf': [{'$ref': '#/components/schemas/BasicResponse',\n",
       "           'x-scope': ['']}],\n",
       "         'properties': {'result': {'$ref': '#/components/schemas/TokenResponse',\n",
       "           'x-scope': ['']}}}}}}}}},\n",
       "  '/v3/oauth2/v2/token': {'post': {'tags': ['Tokens'],\n",
       "    'operationId': 'create_v2_token',\n",
       "    'requestBody': {'required': True,\n",
       "     'content': {'application/json': {'schema': {'$ref': '#/components/schemas/V2Token',\n",
       "        'x-scope': ['']}}}},\n",
       "    'responses': {'200': {'description': 'OK',\n",
       "      'content': {'application/json': {'schema': {'allOf': [{'$ref': '#/components/schemas/BasicResponse',\n",
       "           'x-scope': ['']}],\n",
       "         'properties': {'result': {'$ref': '#/components/schemas/V2TokenResponse',\n",
       "           'x-scope': ['']}}}}}}}}},\n",
       "  '/v3/oauth2/tokens/revoke': {'post': {'tags': ['Tokens'],\n",
       "    'summary': 'Revoke a token.',\n",
       "    'description': 'Revoke a Tapis JWT. Pass the token to revoke in the body of the request. Once revoked, a token cannot be unrevoked. Only user tokens generated by this Authenticator can be revoked with this endpoint.',\n",
       "    'operationId': 'revoke_token',\n",
       "    'requestBody': {'required': True,\n",
       "     'content': {'application/json': {'schema': {'$ref': '#/components/schemas/RevokeTokenRequest',\n",
       "        'x-scope': ['']}}}},\n",
       "    'responses': {'200': {'description': 'Token Revoked',\n",
       "      'content': {'application/json': {'schema': {'allOf': [{'$ref': '#/components/schemas/BasicResponse',\n",
       "           'x-scope': ['']}]}}}}}}},\n",
       "  '/v3/oauth2/userinfo': {'get': {'tags': ['Profiles'],\n",
       "    'operationId': 'get_userinfo',\n",
       "    'description': 'Return the user profile associated with the Tapis Token. Also can be used to validate the token.',\n",
       "    'responses': {'200': {'description': 'OK',\n",
       "      'content': {'application/json': {'schema': {'allOf': [{'$ref': '#/components/schemas/BasicResponse',\n",
       "           'x-scope': ['']}],\n",
       "         'properties': {'result': {'$ref': '#/components/schemas/Profile',\n",
       "           'x-scope': ['']}}}}}}}}},\n",
       "  '/v3/oauth2/profiles': {'get': {'tags': ['Profiles'],\n",
       "    'operationId': 'list_profiles',\n",
       "    'parameters': [{'name': 'limit',\n",
       "      'in': 'query',\n",
       "      'description': 'limit the number of profiles returned.',\n",
       "      'schema': {'type': 'integer'}},\n",
       "     {'name': 'offset',\n",
       "      'in': 'query',\n",
       "      'description': 'index (offset) to start list.',\n",
       "      'schema': {'type': 'integer'}}],\n",
       "    'responses': {'200': {'description': 'OK',\n",
       "      'content': {'application/json': {'schema': {'allOf': [{'$ref': '#/components/schemas/BasicResponse',\n",
       "           'x-scope': ['']}],\n",
       "         'properties': {'result': {'$ref': '#/components/schemas/arrayOfProfiles',\n",
       "           'x-scope': ['']}}}}}}}}},\n",
       "  '/v3/oauth2/profiles/{username}': {'get': {'tags': ['Profiles'],\n",
       "    'operationId': 'get_profile',\n",
       "    'parameters': [{'name': 'username',\n",
       "      'in': 'path',\n",
       "      'description': 'Username to retrieve.',\n",
       "      'required': True,\n",
       "      'schema': {'type': 'string'}}],\n",
       "    'responses': {'200': {'description': 'OK',\n",
       "      'content': {'application/json': {'schema': {'allOf': [{'$ref': '#/components/schemas/BasicResponse',\n",
       "           'x-scope': ['']}],\n",
       "         'properties': {'result': {'$ref': '#/components/schemas/Profile',\n",
       "           'x-scope': ['']}}}}}}}}},\n",
       "  '/v3/oauth2/device/code': {'post': {'tags': ['Tokens'],\n",
       "    'operationId': 'generate_device_code',\n",
       "    'requestBody': {'required': True,\n",
       "     'content': {'application/json': {'schema': {'$ref': '#/components/schemas/NewDeviceCode',\n",
       "        'x-scope': ['']}}}},\n",
       "    'responses': {'200': {'description': 'OK',\n",
       "      'content': {'application/json': {'schema': {'allOf': [{'$ref': '#/components/schemas/BasicResponse',\n",
       "           'x-scope': ['']}],\n",
       "         'properties': {'result': {'$ref': '#/components/schemas/DeviceCodeResposne',\n",
       "           'x-scope': ['']}}}}}}}}}},\n",
       " 'components': {'schemas': {'BasicResponse': {'type': 'object',\n",
       "    'properties': {'version': {'type': 'string',\n",
       "      'description': 'Version of the API'},\n",
       "     'message': {'type': 'string',\n",
       "      'description': 'Brief description of the response'},\n",
       "     'status': {'type': 'string',\n",
       "      'description': 'Whether the request was a success or failure.',\n",
       "      'enum': ['success', 'failure']},\n",
       "     'metadata': {'type': 'object',\n",
       "      'description': 'Metadata about the result object, including pagination information'}}},\n",
       "   'OAuth2Metadata': {'type': 'object',\n",
       "    'properties': {'issuer': {'type': 'string',\n",
       "      'description': \"The authorization server's issuer identifier.\"},\n",
       "     'authorization_endpoint': {'type': 'string',\n",
       "      'description': \"URL of the authorization server's authorization endpoint.\"},\n",
       "     'token_endpoint': {'type': 'string',\n",
       "      'description': \"URL of the authorization server's token endpoint.\"},\n",
       "     'jwks_uri': {'type': 'string',\n",
       "      'description': 'URL to the public key used to check signatures for the tokens issued by this server.'},\n",
       "     'registration_endpoint': {'type': 'string',\n",
       "      'description': \"URL of the authorization server's OAuth 2.0 Dynamic Client Registration endpoint\"},\n",
       "     'grant_types_supported': {'type': 'array',\n",
       "      'items': {'type': 'string'},\n",
       "      'description': 'JSON-serializable list of grant types supported by this server.'}}},\n",
       "   'TenantConfig': {'type': 'object',\n",
       "    'properties': {'allowable_grant_types': {'type': 'array',\n",
       "      'items': {'type': 'string'},\n",
       "      'description': 'JSON-serializable list of allowable grant types'},\n",
       "     'use_ldap': {'type': 'boolean',\n",
       "      'description': 'whether to use the LDAP configured in the Tenants API for this tenant.'},\n",
       "     'use_token_webapp': {'type': 'boolean',\n",
       "      'description': 'whether to make the Authenticator token web app available'},\n",
       "     'mfa_config': {'type': 'object',\n",
       "      'description': 'JSON-serializable object which includes various details such as which MFA system to use (e.g., TACC MFA or another MFA) and configurations for it.'},\n",
       "     'default_access_token_ttl': {'type': 'integer',\n",
       "      'description': 'The access token TTL, in seconds, for standard grant types, such as authorization code.'},\n",
       "     'default_refresh_token_ttl': {'type': 'integer',\n",
       "      'description': 'The refresh token TTL, in seconds, for standard grant types, such as authorization code.'},\n",
       "     'max_access_token_ttl': {'type': 'integer',\n",
       "      'description': 'The maxiumum access token TTL, in seconds, for grant types that allow the caller to specify the TTL.'},\n",
       "     'max_refresh_token_ttl': {'type': 'integer',\n",
       "      'description': 'The maxiumum refresh token TTL, in seconds, for grant types that allow the caller to specify the TTL.'},\n",
       "     'custom_idp_configuration': {'type': 'object',\n",
       "      'description': 'JSON-serializable object which includes various configuration details for tenants using an IdP that is not LDAP/AD.'},\n",
       "     'token_url': {'type': 'string',\n",
       "      'description': 'Token URL endpoint for generating v2 token'},\n",
       "     'impers_oauth_client_id': {'type': 'string',\n",
       "      'description': 'Client ID for impersonation'},\n",
       "     'impers_oauth_client_secret': {'type': 'string',\n",
       "      'description': 'Client secret for impersonation'},\n",
       "     'impersadmin_username': {'type': 'string',\n",
       "      'description': 'Impersonation username for impersonation'},\n",
       "     'impersadmin_password': {'type': 'string',\n",
       "      'description': 'Impersonation password for impersonation'}}},\n",
       "   'NewTenantConfig': {'type': 'object',\n",
       "    'properties': {'allowable_grant_types': {'type': 'array',\n",
       "      'items': {'type': 'string'},\n",
       "      'description': 'JSON-serializable list of allowable grant types'},\n",
       "     'use_ldap': {'type': 'boolean',\n",
       "      'description': 'whether to use the LDAP configured in the Tenants API for this tenant.'},\n",
       "     'use_token_webapp': {'type': 'boolean',\n",
       "      'description': 'whether to make the Authenticator token web app available'},\n",
       "     'default_access_token_ttl': {'type': 'integer',\n",
       "      'description': 'The access token TTL, in seconds, for standard grant types, such as authorization code.'},\n",
       "     'default_refresh_token_ttl': {'type': 'integer',\n",
       "      'description': 'The refresh token TTL, in seconds, for standard grant types, such as authorization code.'},\n",
       "     'max_access_token_ttl': {'type': 'integer',\n",
       "      'description': 'The maxiumum access token TTL, in seconds, for grant types that allow the caller to specify the TTL.'},\n",
       "     'max_refresh_token_ttl': {'type': 'integer',\n",
       "      'description': 'The maxiumum refresh token TTL, in seconds, for grant types that allow the caller to specify the TTL.'},\n",
       "     'mfa_config': {'type': 'object',\n",
       "      'description': 'JSON-serializable object which includes various details such as which MFA system to use (e.g., TACC MFA or another MFA) and configurations for it.'},\n",
       "     'custom_idp_configuration': {'type': 'object',\n",
       "      'description': 'Configuration for customizing the IdP integration, including custom ldap search filters and alternative IdPs like github OAuth of Custos; must be a JSON-serializable object.'},\n",
       "     'token_url': {'type': 'string',\n",
       "      'description': 'Token URL endpoint for generating v2 token'},\n",
       "     'impers_oauth_client_id': {'type': 'string',\n",
       "      'description': 'Client ID for impersonation'},\n",
       "     'impers_oauth_client_secret': {'type': 'string',\n",
       "      'description': 'Client secret for impersonation'},\n",
       "     'impersadmin_username': {'type': 'string',\n",
       "      'description': 'Impersonation username for impersonation'},\n",
       "     'impersadmin_password': {'type': 'string',\n",
       "      'description': 'Impersonation password for impersonation'}}},\n",
       "   'NewClient': {'type': 'object',\n",
       "    'properties': {'client_id': {'type': 'string',\n",
       "      'description': 'A unique identifier for the client. Must be unique for the tenant.'},\n",
       "     'client_key': {'type': 'string',\n",
       "      'description': 'A secret key for authenticating the client.'},\n",
       "     'callback_url': {'type': 'string',\n",
       "      'description': 'URL for application to receive OAuth callbacks for executing flows such as authorization_code.'},\n",
       "     'display_name': {'type': 'string',\n",
       "      'description': 'A name for this client that will be displayed to a user.'},\n",
       "     'description': {'type': 'string',\n",
       "      'description': 'A description of this client. Optional.'}}},\n",
       "   'NewToken': {'type': 'object',\n",
       "    'properties': {'username': {'type': 'string',\n",
       "      'description': 'The username being authenticated (for password grant).'},\n",
       "     'password': {'type': 'string',\n",
       "      'description': 'The password assoicated with the username being authenticated (for password grant).'},\n",
       "     'grant_type': {'type': 'string',\n",
       "      'description': 'The OAuth2 grant type being used; either password, authorization_code or refresh_token.'},\n",
       "     'redirect_uri': {'type': 'string',\n",
       "      'description': \"The client's redirect URI (for authorization_code grant).\"},\n",
       "     'code': {'type': 'string',\n",
       "      'description': 'The authorization code associated with the request (for authorization_code grant).'},\n",
       "     'device_code': {'type': 'string',\n",
       "      'description': 'The device code associated with the request (for device_code grant)'},\n",
       "     'refresh_token': {'type': 'string',\n",
       "      'description': 'The refresh token associated with the request (for refresh_token grant).'}}},\n",
       "   'V2Token': {'type': 'object',\n",
       "    'required': ['access_token'],\n",
       "    'properties': {'access_token': {'type': 'string',\n",
       "      'description': 'The access token representing the user.'}}},\n",
       "   'RevokeTokenRequest': {'type': 'object',\n",
       "    'properties': {'token': {'type': 'string',\n",
       "      'description': 'The Tapis JWT to revoke.'}}},\n",
       "   'NewDeviceCode': {'type': 'object',\n",
       "    'required': ['client_id'],\n",
       "    'properties': {'client_id': {'type': 'string',\n",
       "      'description': 'The client_id requesting the device code.'}}},\n",
       "   'Client': {'type': 'object',\n",
       "    'properties': {'client_id': {'type': 'string',\n",
       "      'description': 'A unique identifier for the client. Must be unique for the tenant.'},\n",
       "     'client_key': {'type': 'string',\n",
       "      'description': 'A secret key for authenticating the client.'},\n",
       "     'callback_url': {'type': 'string',\n",
       "      'description': 'URL for application to receive OAuth callbacks for executing flows such as authorization_code.'},\n",
       "     'create_time': {'type': 'string',\n",
       "      'description': 'The time the client was created.'},\n",
       "     'last_update_time': {'type': 'string',\n",
       "      'description': 'The time the client was last updated.'},\n",
       "     'display_name': {'type': 'string',\n",
       "      'description': 'The display name that will represent this client.'},\n",
       "     'description': {'type': 'string',\n",
       "      'description': 'A description of this client.'}}},\n",
       "   'UpdateClient': {'type': 'object',\n",
       "    'properties': {'callback_url': {'type': 'string',\n",
       "      'description': 'URL for application to receive OAuth callbacks for executing flows such as authorization_code.'},\n",
       "     'display_name': {'type': 'string',\n",
       "      'description': 'The display name that will represent this client.'}}},\n",
       "   'TokenResponse': {'type': 'object',\n",
       "    'required': ['access_token'],\n",
       "    'properties': {'access_token': {'type': 'object',\n",
       "      'description': 'A Tapis access token object.',\n",
       "      'properties': {'access_token': {'type': 'string',\n",
       "        'description': 'The actual access token as a JWT'},\n",
       "       'expires_at': {'type': 'string',\n",
       "        'description': 'The time, as a string in UTC, when the token expires.'},\n",
       "       'expires_in': {'type': 'integer',\n",
       "        'description': 'The amount of time, in seconds, when the token will expire.'},\n",
       "       'jti': {'type': 'string',\n",
       "        'description': 'Unique identifier for the token'}}},\n",
       "     'refresh_token': {'type': 'object',\n",
       "      'description': 'A Tapis refresh token object.',\n",
       "      'properties': {'refresh_token': {'type': 'string',\n",
       "        'description': 'The actual refresh token as a JWT'},\n",
       "       'expires_at': {'type': 'string',\n",
       "        'description': 'The time, as a string in UTC, when the token expires.'},\n",
       "       'expires_in': {'type': 'integer',\n",
       "        'description': 'The amount of time, in seconds, when the token will expire.'},\n",
       "       'jti': {'type': 'string',\n",
       "        'description': 'Unique identifier for the token'}}}}},\n",
       "   'V2TokenResponse': {'type': 'object',\n",
       "    'description': 'A v2 token response object.',\n",
       "    'properties': {'expires_in': {'type': 'integer',\n",
       "      'description': 'The amount of time, in seconds, when the token will expire.'},\n",
       "     'refresh_token': {'type': 'string',\n",
       "      'description': 'The refresh token associated with the v2 token'},\n",
       "     'access_token': {'type': 'string',\n",
       "      'description': 'Unique identifier for the token'}}},\n",
       "   'DeviceCodeResposne': {'type': 'object',\n",
       "    'required': ['device_code',\n",
       "     'user_code',\n",
       "     'client_id',\n",
       "     'expires_in',\n",
       "     'verification_uri'],\n",
       "    'properties': {'device_code': {'type': 'string',\n",
       "      'description': 'The device code generated for the client'},\n",
       "     'user_code': {'type': 'string',\n",
       "      'description': 'The user code generated for the client'},\n",
       "     'client_id': {'type': 'string',\n",
       "      'description': 'The client_id of the client'},\n",
       "     'expires_in': {'type': 'string',\n",
       "      'description': 'The expiration for the user code'},\n",
       "     'verification_uri': {'type': 'string',\n",
       "      'description': 'The url the user should go to to enter their user code'}}},\n",
       "   'arrayOfClients': {'type': 'array',\n",
       "    'items': {'$ref': '#/components/schemas/Client',\n",
       "     'x-scope': ['', '#/components/schemas/arrayOfClients']}},\n",
       "   'Profile': {'type': 'object',\n",
       "    'description': 'The profile associated with a Tapis identity. NOTE -the fields in the Profile object are populated on a best-effort basis and should not be relied upon. Only the username field is guaranteed to be populated.',\n",
       "    'properties': {'username': {'type': 'string',\n",
       "      'description': 'The username associated with the profile.'},\n",
       "     'email': {'type': 'string',\n",
       "      'description': 'The email address associated with the profile.'},\n",
       "     'name': {'type': 'string', 'description': 'The full name of the user.'}}},\n",
       "   'arrayOfProfiles': {'type': 'array',\n",
       "    'items': {'$ref': '#/components/schemas/Profile',\n",
       "     'x-scope': ['', '#/components/schemas/arrayOfProfiles']}}}}}"
      ]
     },
     "execution_count": 4,
     "metadata": {},
     "output_type": "execute_result"
    }
   ],
   "source": [
    "Tapis().resource_dicts['authenticator']"
   ]
  },
  {
   "cell_type": "code",
   "execution_count": 7,
   "metadata": {},
   "outputs": [],
   "source": [
    "jwt = t.get_access_jwt()"
   ]
  },
  {
   "cell_type": "code",
   "execution_count": 5,
   "metadata": {},
   "outputs": [],
   "source": [
    "t = Tapis(base_url = f\"https://{base_url}\",\n",
    "          download_latest_specs=True,\n",
    "          resource_set='dev',\n",
    "          spec_dir='/some/new/dir')"
   ]
  },
  {
   "cell_type": "code",
   "execution_count": 8,
   "metadata": {},
   "outputs": [],
   "source": [
    "clients = t.authenticator.list_clients()\n",
    "test_client = clients[0]"
   ]
  },
  {
   "cell_type": "code",
   "execution_count": 6,
   "metadata": {},
   "outputs": [
    {
     "ename": "NameError",
     "evalue": "name 'test_client' is not defined",
     "output_type": "error",
     "traceback": [
      "\u001b[1;31m---------------------------------------------------------------------------\u001b[0m",
      "\u001b[1;31mNameError\u001b[0m                                 Traceback (most recent call last)",
      "Cell \u001b[1;32mIn[6], line 1\u001b[0m\n\u001b[1;32m----> 1\u001b[0m test_client\n",
      "\u001b[1;31mNameError\u001b[0m: name 'test_client' is not defined"
     ]
    }
   ],
   "source": [
    "test_client"
   ]
  },
  {
   "cell_type": "code",
   "execution_count": null,
   "metadata": {},
   "outputs": [],
   "source": []
  },
  {
   "cell_type": "code",
   "execution_count": 6,
   "metadata": {},
   "outputs": [
    {
     "name": "stdout",
     "output_type": "stream",
     "text": [
      "\n",
      "client_id: Oa9aD3zr2vJ0g\n",
      "device_code: n3r5sUkKgdKMR8v3mQANgOdjEDBoZGuKQVwDflI4\n",
      "expires_in: Mon, 03 Jul 2023 20:46:05 GMT\n",
      "user_code: hMTLAnWQ\n",
      "verification_uri: http://smartfoods.develop.tapis.io/v3/oauth2/device?client_id=Oa9aD3zr2vJ0g\n"
     ]
    }
   ],
   "source": [
    "client_id = 'Oa9aD3zr2vJ0g'\n",
    "client_code_info = t.authenticator.generate_device_code(client_id=client_id)\n",
    "print(client_code_info)\n"
   ]
  },
  {
   "cell_type": "code",
   "execution_count": 7,
   "metadata": {},
   "outputs": [],
   "source": [
    "try:\n",
    "    tokens = t.authenticator.create_token(grant_type=\"device_code\", device_code=client_code_info.device_code, client_id=client_id)\n",
    "except Exception as e:\n",
    "    er = e"
   ]
  },
  {
   "cell_type": "code",
   "execution_count": 8,
   "metadata": {},
   "outputs": [
    {
     "name": "stdout",
     "output_type": "stream",
     "text": [
      "\n",
      "access_token: \n",
      "access_token: eyJ0eXAiOiJKV1QiLCJhbGciOiJSUzI1NiJ9.eyJqdGkiOiI4ZGJiYmYwNy1hZTk0LTQ2ZTgtOWNiOC1mYzQxZGMyMjVlMTYiLCJpc3MiOiJodHRwczovL3NtYXJ0Zm9vZHMuZGV2ZWxvcC50YXBpcy5pby92My90b2tlbnMiLCJzdWIiOiJta3l6dWJyQHRhY2NAc21hcnRmb29kcyIsInRhcGlzL3RlbmFudF9pZCI6InNtYXJ0Zm9vZHMiLCJ0YXBpcy90b2tlbl90eXBlIjoiYWNjZXNzIiwidGFwaXMvZGVsZWdhdGlvbiI6ZmFsc2UsInRhcGlzL2RlbGVnYXRpb25fc3ViIjpudWxsLCJ0YXBpcy91c2VybmFtZSI6Im1reXp1YnJAdGFjYyIsInRhcGlzL2FjY291bnRfdHlwZSI6InVzZXIiLCJleHAiOjE2OTEwMDg1ODUsInRhcGlzL2NsaWVudF9pZCI6Ik9hOWFEM3pyMnZKMGciLCJ0YXBpcy9ncmFudF90eXBlIjoiZGV2aWNlX2NvZGUiLCJ0YXBpcy9pZHBfaWQiOiJ0YWNjIiwidGFwaXMvcmVmcmVzaF9jb3VudCI6MH0.I36FeqXBCNkV5tBBKgGSP9pV5luiaIxreFiFrb7TR9csscUDTpsaxqAG1fzj-SV58djCqu-GFurf2rj7j7mYQM1BpmoTEI7VRDCl45U_PPcALq1sOcVsR4oF0-vVr7eJ_WywXDoV0p0l84ECwcQ4Qq1ozX1TBZb1ZzRZw6BwYP8n1TK9mx4k6YGOMSRYYG7Z2UyBDFs2tNFi1Cj3TMHPTADwF3wQjwRBnnyMjv1CG1_PN9vzUu9jjjbKSb3X6VVNqBQKrsROJxmh4CKxjA7C53QK1BO995xlxrUEx-giErP9ArxGZGOOeBg1uwAp8RilvJ6QDw07zuVUmz39bqS6eg\n",
      "expires_at: 2023-08-02T20:36:25.828513+00:00\n",
      "expires_in: 2592000\n",
      "jti: 8dbbbf07-ae94-46e8-9cb8-fc41dc225e16\n",
      "refresh_token: \n",
      "expires_at: 2024-07-02T20:36:25.930157+00:00\n",
      "expires_in: 31536000\n",
      "jti: 4d46803d-2598-4b5d-9638-ad3d94915c7e\n",
      "refresh_token: eyJ0eXAiOiJKV1QiLCJhbGciOiJSUzI1NiJ9.eyJqdGkiOiI0ZDQ2ODAzZC0yNTk4LTRiNWQtOTYzOC1hZDNkOTQ5MTVjN2UiLCJpc3MiOiJodHRwczovL3NtYXJ0Zm9vZHMuZGV2ZWxvcC50YXBpcy5pby92My90b2tlbnMiLCJzdWIiOiJta3l6dWJyQHRhY2NAc21hcnRmb29kcyIsInRhcGlzL2luaXRpYWxfdHRsIjozMTUzNjAwMCwidGFwaXMvdGVuYW50X2lkIjoic21hcnRmb29kcyIsInRhcGlzL3Rva2VuX3R5cGUiOiJyZWZyZXNoIiwiZXhwIjoxNzE5OTUyNTg1LCJ0YXBpcy9hY2Nlc3NfdG9rZW4iOnsianRpIjoiOGRiYmJmMDctYWU5NC00NmU4LTljYjgtZmM0MWRjMjI1ZTE2IiwiaXNzIjoiaHR0cHM6Ly9zbWFydGZvb2RzLmRldmVsb3AudGFwaXMuaW8vdjMvdG9rZW5zIiwic3ViIjoibWt5enVickB0YWNjQHNtYXJ0Zm9vZHMiLCJ0YXBpcy90ZW5hbnRfaWQiOiJzbWFydGZvb2RzIiwidGFwaXMvdG9rZW5fdHlwZSI6ImFjY2VzcyIsInRhcGlzL2RlbGVnYXRpb24iOmZhbHNlLCJ0YXBpcy9kZWxlZ2F0aW9uX3N1YiI6bnVsbCwidGFwaXMvdXNlcm5hbWUiOiJta3l6dWJyQHRhY2MiLCJ0YXBpcy9hY2NvdW50X3R5cGUiOiJ1c2VyIiwidGFwaXMvY2xpZW50X2lkIjoiT2E5YUQzenIydkowZyIsInRhcGlzL2dyYW50X3R5cGUiOiJkZXZpY2VfY29kZSIsInRhcGlzL2lkcF9pZCI6InRhY2MiLCJ0YXBpcy9yZWZyZXNoX2NvdW50IjowLCJ0dGwiOjI1OTIwMDB9fQ.GBYta1igZloHbkcPo_G-UW5la1xBLrHpqy5BSIz1J9HUBb8_DQykEKV9DbmxmzNhVMaEKTBNO0tGwELIbpL-1aNqNetYnVbblY4RyhW5HlFc9yeK_O2Pa7z51AIU1ibCwNyDlLQrZJ2tfgOZ5jJFEvtLG4efKHjmr14C6lVEFffaHlhCAefBvV5He02ubeTITImjpEj8sXmWwlPk_udZ3yjWBD42layJox_Zly96uhkVuNQDfk-y0E6b3Wc6YDtjYLviXvG1hw8X8T_oUl5X6T097A6AukuTLjUeFzZgq3PXT48oUucy-Tt339rgLATWJpdUgJ69d103d5mSiTqxpg\n"
     ]
    }
   ],
   "source": [
    "print(tokens)"
   ]
  },
  {
   "cell_type": "code",
   "execution_count": 16,
   "metadata": {},
   "outputs": [
    {
     "data": {
      "text/plain": [
       "{'method': 'POST',\n",
       " 'url': 'https://smartfoods.develop.tapis.io/v3/oauth2/tokens',\n",
       " 'headers': {'Content-Type': 'application/json', 'Content-Length': '88'},\n",
       " '_cookies': <RequestsCookieJar[]>,\n",
       " 'body': '{\"grant_type\": \"device_code\", \"device_code\": \"R3OPUI6geB9rwy2l8hUM6oaFJYdTvucJS2phUEQs\"}',\n",
       " 'hooks': {'response': []},\n",
       " '_body_position': None}"
      ]
     },
     "execution_count": 16,
     "metadata": {},
     "output_type": "execute_result"
    }
   ],
   "source": [
    "er.request.__dict__"
   ]
  },
  {
   "cell_type": "code",
   "execution_count": 56,
   "metadata": {},
   "outputs": [
    {
     "data": {
      "text/plain": [
       "dict_keys(['username', 'password', 'grant_type', 'redirect_uri', 'code', 'device_code', 'refresh_token'])"
      ]
     },
     "execution_count": 56,
     "metadata": {},
     "output_type": "execute_result"
    }
   ],
   "source": [
    "t.authenticator.create_token.op_desc['requestBody']['content']['application/json']['schema']['properties'].keys()"
   ]
  },
  {
   "cell_type": "code",
   "execution_count": 24,
   "metadata": {},
   "outputs": [
    {
     "name": "stdout",
     "output_type": "stream",
     "text": [
      "Oa9aD3zr2vJ0g\n"
     ]
    }
   ],
   "source": [
    "print(test_client.client_id)"
   ]
  },
  {
   "cell_type": "code",
   "execution_count": 25,
   "metadata": {},
   "outputs": [
    {
     "data": {
      "text/plain": [
       "\n",
       "client_id: Oa9aD3zr2vJ0g\n",
       "device_code: YNkuRuBgAXoltULD4hPgpC8nYiOezZYjjMzJqRtd\n",
       "expires_in: Mon, 03 Jul 2023 18:38:42 GMT\n",
       "user_code: UvggUJru\n",
       "verification_uri: http://smartfoods.develop.tapis.io/v3/oauth2/device?client_id=Oa9aD3zr2vJ0g"
      ]
     },
     "execution_count": 25,
     "metadata": {},
     "output_type": "execute_result"
    }
   ],
   "source": [
    "client_code_info = t.authenticator.generate_device_code(client_id=test_client.client_id)\n",
    "client_code_info"
   ]
  },
  {
   "cell_type": "code",
   "execution_count": 28,
   "metadata": {},
   "outputs": [
    {
     "ename": "BadRequestError",
     "evalue": "message: Required client_id parameter missing.",
     "output_type": "error",
     "traceback": [
      "\u001b[1;31m---------------------------------------------------------------------------\u001b[0m",
      "\u001b[1;31mBadRequestError\u001b[0m                           Traceback (most recent call last)",
      "Cell \u001b[1;32mIn[28], line 1\u001b[0m\n\u001b[1;32m----> 1\u001b[0m token \u001b[39m=\u001b[39m t\u001b[39m.\u001b[39;49mauthenticator\u001b[39m.\u001b[39;49mcreate_token(grant_type\u001b[39m=\u001b[39;49m\u001b[39m\"\u001b[39;49m\u001b[39mdevice_code\u001b[39;49m\u001b[39m\"\u001b[39;49m, device_code\u001b[39m=\u001b[39;49mclient_code_info\u001b[39m.\u001b[39;49mdevice_code, client_id\u001b[39m=\u001b[39;49mtest_client\u001b[39m.\u001b[39;49mclient_id)\n",
      "File \u001b[1;32mc:\\Users\\mray3\\AppData\\Local\\Programs\\Python\\Python311\\Lib\\site-packages\\tapipy\\tapis.py:1211\u001b[0m, in \u001b[0;36mOperation.__call__\u001b[1;34m(self, **kwargs)\u001b[0m\n\u001b[0;32m   1209\u001b[0m \u001b[39m# for any kind of non-20x response, we need to raise an error.\u001b[39;00m\n\u001b[0;32m   1210\u001b[0m \u001b[39mif\u001b[39;00m resp\u001b[39m.\u001b[39mstatus_code \u001b[39m==\u001b[39m \u001b[39m400\u001b[39m:\n\u001b[1;32m-> 1211\u001b[0m     \u001b[39mraise\u001b[39;00m errors\u001b[39m.\u001b[39mBadRequestError(msg\u001b[39m=\u001b[39merror_msg, version\u001b[39m=\u001b[39mversion, request\u001b[39m=\u001b[39mr, response\u001b[39m=\u001b[39mresp)\n\u001b[0;32m   1212\u001b[0m \u001b[39mif\u001b[39;00m resp\u001b[39m.\u001b[39mstatus_code \u001b[39m==\u001b[39m \u001b[39m401\u001b[39m:\n\u001b[0;32m   1213\u001b[0m     \u001b[39mraise\u001b[39;00m errors\u001b[39m.\u001b[39mUnauthorizedError(msg\u001b[39m=\u001b[39merror_msg, version\u001b[39m=\u001b[39mversion, request\u001b[39m=\u001b[39mr, response\u001b[39m=\u001b[39mresp)\n",
      "\u001b[1;31mBadRequestError\u001b[0m: message: Required client_id parameter missing."
     ]
    }
   ],
   "source": [
    "token = t.authenticator.create_token(grant_type=\"device_code\", device_code=client_code_info.device_code, client_id=test_client.client_id)"
   ]
  },
  {
   "cell_type": "code",
   "execution_count": 10,
   "metadata": {},
   "outputs": [
    {
     "ename": "ServerDownError",
     "evalue": "message: Unrecognized exception type: <class 'AttributeError'>. Exception: '_AppCtxGlobals' object has no attribute 'token_claims'",
     "output_type": "error",
     "traceback": [
      "\u001b[1;31m---------------------------------------------------------------------------\u001b[0m",
      "\u001b[1;31mServerDownError\u001b[0m                           Traceback (most recent call last)",
      "\u001b[1;32m~\\AppData\\Local\\Temp/ipykernel_13700/3069015102.py\u001b[0m in \u001b[0;36m<module>\u001b[1;34m\u001b[0m\n\u001b[1;32m----> 1\u001b[1;33m \u001b[0mt\u001b[0m\u001b[1;33m.\u001b[0m\u001b[0mauthenticator\u001b[0m\u001b[1;33m.\u001b[0m\u001b[0mgenerate_device_code\u001b[0m\u001b[1;33m(\u001b[0m\u001b[0mclient_id\u001b[0m \u001b[1;33m=\u001b[0m \u001b[0mtest_client\u001b[0m\u001b[1;33m.\u001b[0m\u001b[0mclient_id\u001b[0m\u001b[1;33m)\u001b[0m\u001b[1;33m\u001b[0m\u001b[1;33m\u001b[0m\u001b[0m\n\u001b[0m",
      "\u001b[1;32m~\\AppData\\Roaming\\Python\\Python310\\site-packages\\tapipy\\tapis.py\u001b[0m in \u001b[0;36m__call__\u001b[1;34m(self, **kwargs)\u001b[0m\n\u001b[0;32m   1146\u001b[0m             \u001b[1;32mraise\u001b[0m \u001b[0merrors\u001b[0m\u001b[1;33m.\u001b[0m\u001b[0mNotAuthorizedError\u001b[0m\u001b[1;33m(\u001b[0m\u001b[0mmsg\u001b[0m\u001b[1;33m=\u001b[0m\u001b[0merror_msg\u001b[0m\u001b[1;33m,\u001b[0m \u001b[0mversion\u001b[0m\u001b[1;33m=\u001b[0m\u001b[0mversion\u001b[0m\u001b[1;33m,\u001b[0m \u001b[0mrequest\u001b[0m\u001b[1;33m=\u001b[0m\u001b[0mr\u001b[0m\u001b[1;33m,\u001b[0m \u001b[0mresponse\u001b[0m\u001b[1;33m=\u001b[0m\u001b[0mresp\u001b[0m\u001b[1;33m)\u001b[0m\u001b[1;33m\u001b[0m\u001b[1;33m\u001b[0m\u001b[0m\n\u001b[0;32m   1147\u001b[0m         \u001b[1;32mif\u001b[0m \u001b[0mresp\u001b[0m\u001b[1;33m.\u001b[0m\u001b[0mstatus_code\u001b[0m \u001b[1;32min\u001b[0m \u001b[1;33m(\u001b[0m\u001b[1;36m500\u001b[0m\u001b[1;33m,\u001b[0m\u001b[1;33m)\u001b[0m\u001b[1;33m:\u001b[0m\u001b[1;33m\u001b[0m\u001b[1;33m\u001b[0m\u001b[0m\n\u001b[1;32m-> 1148\u001b[1;33m             \u001b[1;32mraise\u001b[0m \u001b[0merrors\u001b[0m\u001b[1;33m.\u001b[0m\u001b[0mServerDownError\u001b[0m\u001b[1;33m(\u001b[0m\u001b[0mmsg\u001b[0m\u001b[1;33m=\u001b[0m\u001b[0merror_msg\u001b[0m\u001b[1;33m,\u001b[0m \u001b[0mversion\u001b[0m\u001b[1;33m=\u001b[0m\u001b[0mversion\u001b[0m\u001b[1;33m,\u001b[0m \u001b[0mrequest\u001b[0m\u001b[1;33m=\u001b[0m\u001b[0mr\u001b[0m\u001b[1;33m,\u001b[0m \u001b[0mresponse\u001b[0m\u001b[1;33m=\u001b[0m\u001b[0mresp\u001b[0m\u001b[1;33m)\u001b[0m\u001b[1;33m\u001b[0m\u001b[1;33m\u001b[0m\u001b[0m\n\u001b[0m\u001b[0;32m   1149\u001b[0m         \u001b[1;31m# catch-all for any other non-20x response:\u001b[0m\u001b[1;33m\u001b[0m\u001b[1;33m\u001b[0m\u001b[0m\n\u001b[0;32m   1150\u001b[0m         \u001b[1;32mif\u001b[0m \u001b[0mresp\u001b[0m\u001b[1;33m.\u001b[0m\u001b[0mstatus_code\u001b[0m \u001b[1;33m>=\u001b[0m \u001b[1;36m300\u001b[0m\u001b[1;33m:\u001b[0m\u001b[1;33m\u001b[0m\u001b[1;33m\u001b[0m\u001b[0m\n",
      "\u001b[1;31mServerDownError\u001b[0m: message: Unrecognized exception type: <class 'AttributeError'>. Exception: '_AppCtxGlobals' object has no attribute 'token_claims'"
     ]
    }
   ],
   "source": [
    "t.authenticator.generate_device_code(client_id = test_client.client_id)"
   ]
  },
  {
   "cell_type": "code",
   "execution_count": 4,
   "metadata": {},
   "outputs": [],
   "source": [
    "url = r\"https://smartfoods.tapis.io/v3/oauth2/device/code\""
   ]
  },
  {
   "cell_type": "code",
   "execution_count": 11,
   "metadata": {},
   "outputs": [],
   "source": [
    "client_id = \"OMgP9E9aaz3mL\""
   ]
  },
  {
   "cell_type": "code",
   "execution_count": 6,
   "metadata": {},
   "outputs": [],
   "source": [
    "r = requests.post(url, json={'client_id':client_id})"
   ]
  },
  {
   "cell_type": "code",
   "execution_count": 7,
   "metadata": {},
   "outputs": [
    {
     "name": "stdout",
     "output_type": "stream",
     "text": [
      "b'{\"message\":\"Internal error saving device code. Please try again later.\",\"metadata\":{},\"result\":null,\"status\":\"error\",\"version\":\"dev\"}\\n'\n"
     ]
    }
   ],
   "source": [
    "print(r.content)"
   ]
  }
 ],
 "metadata": {
  "kernelspec": {
   "display_name": "Python 3",
   "language": "python",
   "name": "python3"
  },
  "language_info": {
   "codemirror_mode": {
    "name": "ipython",
    "version": 3
   },
   "file_extension": ".py",
   "mimetype": "text/x-python",
   "name": "python",
   "nbconvert_exporter": "python",
   "pygments_lexer": "ipython3",
   "version": "3.11.4"
  },
  "orig_nbformat": 4
 },
 "nbformat": 4,
 "nbformat_minor": 2
}
