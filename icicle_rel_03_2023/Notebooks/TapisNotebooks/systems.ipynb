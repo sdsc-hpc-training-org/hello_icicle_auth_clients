{
 "cells": [
  {
   "cell_type": "code",
   "execution_count": null,
   "metadata": {},
   "outputs": [],
   "source": [
    "import time\n",
    "import pprint as pp\n",
    "import datetime\n",
    "from getpass import getpass\n",
    "import pytz\n",
    "import neo4jupyter\n",
    "from py2neo import Graph\n",
    "from tapipy.tapis import Tapis"
   ]
  },
  {
   "cell_type": "code",
   "execution_count": null,
   "metadata": {},
   "outputs": [],
   "source": [
    "start = time.time()\n",
    "\n",
    "# Base URL for Tapis\n",
    "base_url = \"https://icicle.tapis.io\"\n",
    "username = str(input(\"username\"))\n",
    "\n",
    "# Get Tapis object if it isn't already created.\n",
    "try:\n",
    "    if t.base_url == base_url and t.username == username and t.access_token:\n",
    "        print(\"Tapis object already exists.\")\n",
    "        if t.access_token.expires_at < datetime.datetime.now(pytz.utc):\n",
    "            print(\"Existing Tapis token expired, getting new token.\")\n",
    "            raise\n",
    "    else:\n",
    "        print(\"Creating new Tapis object.\")\n",
    "        raise\n",
    "except:\n",
    "    try:\n",
    "        t = Tapis(base_url = base_url,\n",
    "                  username = username,\n",
    "                  password = getpass('password'))\n",
    "        t.get_tokens()\n",
    "    except Exception as e:\n",
    "        print(f\"\\nBROKEN! timeout: {time.time() - start}\\n\")\n",
    "        raise\n",
    "\n",
    "# V3 Headers\n",
    "header_dat = {\"X-Tapis-token\": t.access_token.access_token,\n",
    "              \"Content-Type\": \"application/json\"}\n",
    "\n",
    "# Service URL\n",
    "url = f\"{base_url}/v3\"                   # remote\n",
    "\n",
    "print(time.time() - start)\n",
    "print(f\"base_url: {base_url}\")\n",
    "print(f\"serv_url: {url}\")"
   ]
  },
  {
   "cell_type": "code",
   "execution_count": null,
   "metadata": {},
   "outputs": [],
   "source": [
    "t.systems.getSystems()"
   ]
  },
  {
   "cell_type": "code",
   "execution_count": null,
   "metadata": {},
   "outputs": [],
   "source": [
    "system_def = {\n",
    "  \"id\": \"hello_icicle_dev\",\n",
    "  \"description\": \"Testing Tapis Job Submission integration to ICICLE\",\n",
    "  \"systemType\": \"LINUX\",\n",
    "  \"host\": \"icicle.tapis.io\",\n",
    "  \"defaultAuthnMethod\": \"PKI_KEYS\",\n",
    "  \"effectiveUserId\": \"${apiUserId}\",\n",
    "  \"port\": 22,\n",
    "  \"rootDir\": \"/\",\n",
    "  \"canExec\": True,\n",
    "  \"jobRuntimes\": [ { \"runtimeType\": \"SINGULARITY\" } ],\n",
    "  \"jobWorkingDir\": \"HOST_EVAL($WORK2)\",\n",
    "  \"canRunBatch\": True,\n",
    "  \"batchScheduler\": \"SLURM\",\n",
    "  \"batchSchedulerProfile\": \"tacc\",\n",
    "  \"batchDefaultLogicalQueue\": \"tapisNormal\",\n",
    "  \"batchLogicalQueues\": [\n",
    "    {\n",
    "      \"name\": \"tapisNormal\",\n",
    "      \"hpcQueueName\": \"normal\",\n",
    "      \"maxJobs\": 50,\n",
    "      \"maxJobsPerUser\": 10,\n",
    "      \"minNodeCount\": 1,\n",
    "      \"maxNodeCount\": 16,\n",
    "      \"minCoresPerNode\": 1,\n",
    "      \"maxCoresPerNode\": 68,\n",
    "      \"minMemoryMB\": 1,\n",
    "      \"maxMemoryMB\": 16384,\n",
    "      \"minMinutes\": 1,\n",
    "      \"maxMinutes\": 60\n",
    "    }\n",
    "  ]\n",
    "}"
   ]
  },
  {
   "cell_type": "code",
   "execution_count": null,
   "metadata": {},
   "outputs": [],
   "source": [
    "t.systems.createSystem(**system_def)"
   ]
  },
  {
   "cell_type": "code",
   "execution_count": null,
   "metadata": {},
   "outputs": [],
   "source": [
    "t.systems.grantUserPerms(systemId='hello_icicle_dev', userName='mkyzubr', permissions=['MODIFY', 'EXECUTE'])"
   ]
  },
  {
   "cell_type": "code",
   "execution_count": null,
   "metadata": {},
   "outputs": [],
   "source": [
    "t.systems.shareSystem(systemId='hello_icicle_dev')"
   ]
  },
  {
   "cell_type": "code",
   "execution_count": null,
   "metadata": {},
   "outputs": [],
   "source": [
    "t.systems.getSystems(listType='ALL')"
   ]
  },
  {
   "cell_type": "code",
   "execution_count": null,
   "metadata": {},
   "outputs": [],
   "source": []
  }
 ],
 "metadata": {
  "kernelspec": {
   "display_name": "Python 3 (ipykernel)",
   "language": "python",
   "name": "python3"
  },
  "language_info": {
   "codemirror_mode": {
    "name": "ipython",
    "version": 3
   },
   "file_extension": ".py",
   "mimetype": "text/x-python",
   "name": "python",
   "nbconvert_exporter": "python",
   "pygments_lexer": "ipython3",
   "version": "3.10.5"
  }
 },
 "nbformat": 4,
 "nbformat_minor": 2
}
