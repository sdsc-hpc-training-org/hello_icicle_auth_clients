{
 "cells": [
  {
   "cell_type": "code",
   "execution_count": null,
   "id": "0693f01a",
   "metadata": {},
   "outputs": [],
   "source": [
    "import time\n",
    "import datetime\n",
    "from getpass import getpass\n",
    "import pytz\n",
    "import json\n",
    "from tapipy.tapis import Tapis"
   ]
  },
  {
   "cell_type": "code",
   "execution_count": null,
   "id": "62227c57",
   "metadata": {},
   "outputs": [],
   "source": [
    "start = time.time()\n",
    "\n",
    "base_url = \"https://icicle.tapis.io\"\n",
    "username = str(input(\"username\"))\n",
    "\n",
    "try:\n",
    "    if t.base_url == base_url and t.username == username and t.access_token:\n",
    "        print(\"Tapis object already exists.\")\n",
    "        if t.access_token.expires_at < datetime.datetime.now(pytz.utc):\n",
    "            print(\"Existing Tapis token expired, getting new token.\")\n",
    "            raise\n",
    "    else:\n",
    "        print(\"Creating new Tapis object.\")\n",
    "        raise\n",
    "except:\n",
    "    try:\n",
    "        t = Tapis(base_url = base_url,\n",
    "                  username = username,\n",
    "                  password = getpass('password'))\n",
    "        t.get_tokens()\n",
    "    except Exception as e:\n",
    "        print(f\"\\nBROKEN! timeout: {time.time() - start}\\n\")\n",
    "        raise\n",
    "\n",
    "header_dat = {\"X-Tapis-token\": t.access_token.access_token,\n",
    "              \"Content-Type\": \"application/json\"}\n",
    "\n",
    "url = f\"{base_url}/v3\"                   \n",
    "\n",
    "print(time.time() - start)\n",
    "print(f\"base_url: {base_url}\")\n",
    "print(f\"serv_url: {url}\")"
   ]
  },
  {
   "cell_type": "code",
   "execution_count": null,
   "id": "a5a9139a",
   "metadata": {},
   "outputs": [],
   "source": [
    "with open('app_sample.json', 'r') as openfile:\n",
    "    my_app = json.load(openfile)\n",
    "t.apps.createAppVersion(**my_app)"
   ]
  },
  {
   "cell_type": "code",
   "execution_count": null,
   "id": "f104bab0",
   "metadata": {},
   "outputs": [],
   "source": [
    "t.systems.getSystem(systemId='hello_icicle_dev')"
   ]
  },
  {
   "cell_type": "code",
   "execution_count": null,
   "id": "caeaa4bf",
   "metadata": {},
   "outputs": [],
   "source": [
    "t.apps.getAppLatestVersion(appId='hello-icicle-testing-app')"
   ]
  },
  {
   "cell_type": "code",
   "execution_count": null,
   "id": "413fa80b",
   "metadata": {},
   "outputs": [],
   "source": [
    "t.apps.getApps()"
   ]
  },
  {
   "cell_type": "code",
   "execution_count": null,
   "id": "08cb2222",
   "metadata": {},
   "outputs": [],
   "source": []
  }
 ],
 "metadata": {
  "kernelspec": {
   "display_name": "Python 3 (ipykernel)",
   "language": "python",
   "name": "python3"
  },
  "language_info": {
   "codemirror_mode": {
    "name": "ipython",
    "version": 3
   },
   "file_extension": ".py",
   "mimetype": "text/x-python",
   "name": "python",
   "nbconvert_exporter": "python",
   "pygments_lexer": "ipython3",
   "version": "3.10.5"
  }
 },
 "nbformat": 4,
 "nbformat_minor": 5
}
