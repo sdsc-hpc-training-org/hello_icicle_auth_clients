{
 "cells": [
  {
   "cell_type": "code",
   "execution_count": 3,
   "metadata": {},
   "outputs": [],
   "source": [
    "import psycopg2\n",
    "\n",
    "params1 = {\"host\": \"sillything.pods.icicle.tapis.io\",\n",
    "           \"port\":  443,\n",
    "           \"database\": \"postgres\",\n",
    "           \"user\": \"sillything\",\n",
    "           \"password\": \"(password for the sillything pod)\"}\n",
    "\n",
    "conn = psycopg2.connect(**params1)\n",
    "pg_cursor = conn.cursor()\n",
    "# get all tables\n",
    "pg_cursor.execute(\"select relname from pg_class where relkind='r' and relname !~ '^(pg_|sql_)';\")\n",
    "print(pg_cursor.fetchall())\n",
    "[]\n",
    "# get all tables\n",
    "pg_cursor.execute(\"\"\"\n",
    "CREATE TABLE distributors (\n",
    "    did     integer,\n",
    "    name    varchar(40),\n",
    "    PRIMARY KEY(did)\n",
    ");\"\"\")\n",
    "# get all tables\n",
    "pg_cursor.execute(\"select relname from pg_class where relkind='r' and relname !~ '^(pg_|sql_)';\")\n",
    "print(pg_cursor.fetchall())"
   ]
  }
 ],
 "metadata": {
  "kernelspec": {
   "display_name": "Python 3",
   "language": "python",
   "name": "python3"
  },
  "language_info": {
   "codemirror_mode": {
    "name": "ipython",
    "version": 3
   },
   "file_extension": ".py",
   "mimetype": "text/x-python",
   "name": "python",
   "nbconvert_exporter": "python",
   "pygments_lexer": "ipython3",
   "version": "3.10.11"
  },
  "orig_nbformat": 4
 },
 "nbformat": 4,
 "nbformat_minor": 2
}
