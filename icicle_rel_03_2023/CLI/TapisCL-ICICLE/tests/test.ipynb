{
 "cells": [
  {
   "cell_type": "code",
   "execution_count": 6,
   "metadata": {},
   "outputs": [],
   "source": [
    "import psycopg2\n",
    "\n",
    "params1 = {\"host\": \"storeclosuredb.pods.icicle.tapis.io\",\n",
    "           \"port\":  443,\n",
    "           \"database\": \"postgres\",\n",
    "           \"user\": \"storeclosuredb\",\n",
    "           \"password\": \"AmcMXG9RybwywmCfrrAANOb6F3OzvB\"}\n",
    "\n",
    "conn = psycopg2.connect(**params1)\n",
    "pg_cursor = conn.cursor()"
   ]
  },
  {
   "cell_type": "code",
   "execution_count": 7,
   "metadata": {},
   "outputs": [
    {
     "ename": "SyntaxError",
     "evalue": "SELECT * with no tables specified is not valid\nLINE 1: select *;\n               ^\n",
     "output_type": "error",
     "traceback": [
      "\u001b[1;31m---------------------------------------------------------------------------\u001b[0m",
      "\u001b[1;31mSyntaxError\u001b[0m                               Traceback (most recent call last)",
      "Cell \u001b[1;32mIn[7], line 1\u001b[0m\n\u001b[1;32m----> 1\u001b[0m pg_cursor\u001b[39m.\u001b[39;49mexecute(\u001b[39mr\u001b[39;49m\u001b[39m\"\u001b[39;49m\u001b[39mselect *;\u001b[39;49m\u001b[39m\"\u001b[39;49m)\n\u001b[0;32m      2\u001b[0m \u001b[39mprint\u001b[39m(pg_cursor\u001b[39m.\u001b[39mfetchall())\n",
      "\u001b[1;31mSyntaxError\u001b[0m: SELECT * with no tables specified is not valid\nLINE 1: select *;\n               ^\n"
     ]
    }
   ],
   "source": [
    "pg_cursor.execute(r\"select *;\")\n",
    "print(pg_cursor.fetchall())"
   ]
  }
 ],
 "metadata": {
  "kernelspec": {
   "display_name": "Python 3",
   "language": "python",
   "name": "python3"
  },
  "language_info": {
   "codemirror_mode": {
    "name": "ipython",
    "version": 3
   },
   "file_extension": ".py",
   "mimetype": "text/x-python",
   "name": "python",
   "nbconvert_exporter": "python",
   "pygments_lexer": "ipython3",
   "version": "3.10.11"
  },
  "orig_nbformat": 4
 },
 "nbformat": 4,
 "nbformat_minor": 2
}
