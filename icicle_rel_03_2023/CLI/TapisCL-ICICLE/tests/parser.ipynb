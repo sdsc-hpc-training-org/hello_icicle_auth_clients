{
 "cells": [
  {
   "cell_type": "code",
   "execution_count": 22,
   "metadata": {},
   "outputs": [],
   "source": [
    "import argparse"
   ]
  },
  {
   "cell_type": "code",
   "execution_count": 38,
   "metadata": {},
   "outputs": [],
   "source": [
    "args = ['jobMaxJobs', 'jobMaxJobsPerUser', 'batchScheduler', 'batchLogicalQueues', 'batchDefaultLoginQueue', 'expression', 'eggthrower', 'source_volume_id']"
   ]
  },
  {
   "cell_type": "code",
   "execution_count": 40,
   "metadata": {},
   "outputs": [],
   "source": [
    "def generate_abbreviation(argument: str, truncated_args_list: list, attempts=1):\n",
    "    if argument[attempts-1] in ('_', '-'):\n",
    "        argument += 1\n",
    "    abbreviation = argument[:attempts]\n",
    "    for index, letter in enumerate(argument):\n",
    "        if letter.isupper() or not (argument[index-1].isnumeric() or argument[index-1].isalpha()):\n",
    "            abbreviation += letter\n",
    "    if abbreviation in truncated_args_list:\n",
    "        abbreviation = generate_abbreviation(argument, truncated_args_list, attempts=attempts+1)\n",
    "    return abbreviation.lower()"
   ]
  },
  {
   "cell_type": "code",
   "execution_count": 41,
   "metadata": {},
   "outputs": [
    {
     "data": {
      "text/plain": [
       "['jmj', 'jmjpu', 'bs', 'blq', 'bdlq', 'e', 'eg', 'svi']"
      ]
     },
     "execution_count": 41,
     "metadata": {},
     "output_type": "execute_result"
    }
   ],
   "source": [
    "abbrvs_list = []\n",
    "for arg in args:\n",
    "    abbrvs_list.append(generate_abbreviation(arg, abbrvs_list))\n",
    "abbrvs_list"
   ]
  },
  {
   "cell_type": "code",
   "execution_count": 15,
   "metadata": {},
   "outputs": [],
   "source": [
    "parser = argparse.ArgumentParser(add_help=False, allow_abbrev=False)"
   ]
  },
  {
   "cell_type": "code",
   "execution_count": 16,
   "metadata": {},
   "outputs": [
    {
     "data": {
      "text/plain": [
       "_StoreAction(option_strings=['--albunin'], dest='albunin', nargs=None, const=None, default=None, type=None, choices=None, required=False, help=None, metavar=None)"
      ]
     },
     "execution_count": 16,
     "metadata": {},
     "output_type": "execute_result"
    }
   ],
   "source": [
    "parser.add_argument('-a')\n",
    "parser.add_argument('-b')\n",
    "parser.add_argument('-c')\n",
    "parser.add_argument('--argument'),\n",
    "parser.add_argument('--algol'),\n",
    "parser.add_argument('--albunin')"
   ]
  },
  {
   "cell_type": "code",
   "execution_count": 17,
   "metadata": {},
   "outputs": [
    {
     "data": {
      "text/plain": [
       "{'a': 'test',\n",
       " 'b': None,\n",
       " 'c': None,\n",
       " 'argument': None,\n",
       " 'algol': None,\n",
       " 'albunin': None}"
      ]
     },
     "execution_count": 17,
     "metadata": {},
     "output_type": "execute_result"
    }
   ],
   "source": [
    "vars(parser.parse_args(['-a', 'test']))"
   ]
  },
  {
   "cell_type": "code",
   "execution_count": 13,
   "metadata": {},
   "outputs": [],
   "source": [
    "abbreviations_map = {\n",
    "    'a':{'argument', 'algol', 'albunin'}\n",
    "}"
   ]
  },
  {
   "cell_type": "code",
   "execution_count": 18,
   "metadata": {},
   "outputs": [],
   "source": [
    "def parse_abbr_args(**kwargs: dict) -> dict:\n",
    "    for abbr, arg_set in abbreviations_map.items():\n",
    "        for argument in arg_set:\n",
    "            kwargs[argument] = kwargs[abbr]\n",
    "        kwargs.pop(abbr)\n",
    "    return kwargs"
   ]
  },
  {
   "cell_type": "code",
   "execution_count": 20,
   "metadata": {},
   "outputs": [
    {
     "data": {
      "text/plain": [
       "{'b': None, 'c': None, 'argument': 'test', 'algol': 'test', 'albunin': 'test'}"
      ]
     },
     "execution_count": 20,
     "metadata": {},
     "output_type": "execute_result"
    }
   ],
   "source": [
    "kwargs = vars(parser.parse_args(['-a', 'test']))\n",
    "kwargs = parse_abbr_args(**kwargs)\n",
    "kwargs"
   ]
  },
  {
   "cell_type": "code",
   "execution_count": null,
   "metadata": {},
   "outputs": [],
   "source": []
  }
 ],
 "metadata": {
  "kernelspec": {
   "display_name": "Python 3",
   "language": "python",
   "name": "python3"
  },
  "language_info": {
   "codemirror_mode": {
    "name": "ipython",
    "version": 3
   },
   "file_extension": ".py",
   "mimetype": "text/x-python",
   "name": "python",
   "nbconvert_exporter": "python",
   "pygments_lexer": "ipython3",
   "version": "3.11.4"
  },
  "orig_nbformat": 4
 },
 "nbformat": 4,
 "nbformat_minor": 2
}
